{
 "cells": [
  {
   "cell_type": "markdown",
   "metadata": {},
   "source": [
    "Modified from https://www.kaggle.com/anokas/data-analysis-xgboost-starter-0-35460-lb"
   ]
  },
  {
   "cell_type": "code",
   "execution_count": 4,
   "metadata": {
    "collapsed": true
   },
   "outputs": [],
   "source": [
    "import numpy as np # linear algebra\n",
    "import pandas as pd # data processing, CSV file I/O (e.g. pd.read_csv)\n",
    "import os\n",
    "import gc\n",
    "import matplotlib.pyplot as plt\n",
    "import seaborn as sns\n",
    "%matplotlib inline\n",
    "\n",
    "pal = sns.color_palette()"
   ]
  },
  {
   "cell_type": "markdown",
   "metadata": {},
   "source": [
    "## Train/Validation Set split"
   ]
  },
  {
   "cell_type": "code",
   "execution_count": 5,
   "metadata": {
    "collapsed": true
   },
   "outputs": [],
   "source": [
    "from sklearn.model_selection import train_test_split\n",
    "\n",
    "# TODO: dropna and duplicates checking\n",
    "\n",
    "# Remove missing values and duplicates from training data\n",
    "# df.drop_duplicates(inplace=True)\n",
    "# df.dropna(inplace=True)\n",
    "\n",
    "df_train = pd.read_csv('../input/train.csv')\n",
    "\n",
    "df_train, df_validate = train_test_split(df_train, test_size = 0.2)"
   ]
  },
  {
   "cell_type": "markdown",
   "metadata": {},
   "source": [
    "## Clean text"
   ]
  },
  {
   "cell_type": "code",
   "execution_count": 6,
   "metadata": {
    "collapsed": false
   },
   "outputs": [],
   "source": [
    "from nltk.corpus import stopwords\n",
    "from nltk.stem import PorterStemmer\n",
    "from nltk.tokenize import word_tokenize\n",
    "from string import punctuation\n",
    "stopword = stopwords.words('english')\n",
    "stopword.extend(punctuation)\n",
    "stopword = set(stopword)\n",
    "\n",
    "stemmer = PorterStemmer()\n",
    "def text_to_wordlist(text):\n",
    "    text = str(text)\n",
    "    text = text.lower()\n",
    "\n",
    "    words = word_tokenize(text)\n",
    "    words = [stemmer.stem(w) for w in words if not w in stopword]\n",
    "    \n",
    "    return words"
   ]
  },
  {
   "cell_type": "markdown",
   "metadata": {},
   "source": [
    "# Word Share Model"
   ]
  },
  {
   "cell_type": "code",
   "execution_count": 7,
   "metadata": {
    "collapsed": false
   },
   "outputs": [],
   "source": [
    "def word_match_share(row):\n",
    "    q1_words = set(text_to_wordlist(row['question1']))\n",
    "    q2_words = set(text_to_wordlist(row['question2']))\n",
    "    if len(q1_words) == 0 and len(q2_words) == 0:\n",
    "        return 0\n",
    "    # set intersection with &\n",
    "    return len(q1_words & q2_words)/(len(q1_words) + len(q2_words))"
   ]
  },
  {
   "cell_type": "code",
   "execution_count": 8,
   "metadata": {
    "collapsed": false
   },
   "outputs": [
    {
     "data": {
      "text/plain": [
       "<matplotlib.text.Text at 0x1228cd208>"
      ]
     },
     "execution_count": 8,
     "metadata": {},
     "output_type": "execute_result"
    },
    {
     "data": {
      "image/png": "[encoded data removed]",
      "text/plain": [
       "<matplotlib.figure.Figure at 0x11d7b2908>"
      ]
     },
     "metadata": {},
     "output_type": "display_data"
    }
   ],
   "source": [
    "plt.figure(figsize=(15, 5))\n",
    "train_word_match = df_train.apply(word_match_share, axis=1, raw=True)\n",
    "plt.hist(train_word_match[df_train['is_duplicate'] == 0], bins=20, normed=True, label='Not Duplicate')\n",
    "plt.hist(train_word_match[df_train['is_duplicate'] == 1], bins=20, normed=True, alpha=0.7, label='Duplicate')\n",
    "plt.legend()\n",
    "plt.title('Label distribution over word_match_share', fontsize=15)\n",
    "plt.xlabel('word_match_share', fontsize=15)"
   ]
  },
  {
   "cell_type": "markdown",
   "metadata": {},
   "source": [
    "## Calculate Log Loss \n",
    "Taken from https://www.kaggle.com/tj2552/similarity-techniques-nlp"
   ]
  },
  {
   "cell_type": "code",
   "execution_count": 9,
   "metadata": {
    "collapsed": true
   },
   "outputs": [],
   "source": [
    "from sklearn.metrics import log_loss\n",
    "\n",
    "def calculate_logloss(y_true, y_pred):\n",
    "    loss_cal = log_loss(y_true, y_pred)\n",
    "    return loss_cal"
   ]
  },
  {
   "cell_type": "code",
   "execution_count": 10,
   "metadata": {
    "collapsed": false
   },
   "outputs": [
    {
     "name": "stdout",
     "output_type": "stream",
     "text": [
      "Log loss on the validation set for word count match is 0.581821\n"
     ]
    }
   ],
   "source": [
    "y_true = df_validate.is_duplicate.tolist()\n",
    "y_pred_word_count_match = df_validate.apply(word_match_share, axis=1, raw=True)\n",
    "logloss = calculate_logloss(y_true, y_pred_word_count_match)\n",
    "print (\"Log loss on the validation set for word count match is %f\" %logloss)"
   ]
  },
  {
   "cell_type": "markdown",
   "metadata": {},
   "source": [
    "## TF-IDF with Latent Semantic Indexing\n",
    "\n",
    "Inspired by http://www.52nlp.cn/%E5%A6%82%E4%BD%95%E8%AE%A1%E7%AE%97%E4%B8%A4%E4%B8%AA%E6%96%87%E6%A1%A3%E7%9A%84%E7%9B%B8%E4%BC%BC%E5%BA%A6%E4%B8%89\n",
    "\n",
    "Train a LSI based on the TFIDF on the training set.\n",
    "\n",
    "Then represent each question with the LSI as a vector. Calculate the cosine similarity of the two vectors. Use the similarity as an input for XGBoost."
   ]
  },
  {
   "cell_type": "code",
   "execution_count": 11,
   "metadata": {
    "collapsed": false
   },
   "outputs": [],
   "source": [
    "from gensim import corpora, models\n",
    "\n",
    "def get_corpus(df):\n",
    "    texts = []\n",
    "    for index, row in df_train.iterrows():\n",
    "        q1_words = text_to_wordlist(row['question1'])\n",
    "        q2_words = text_to_wordlist(row['question2'])\n",
    "        texts.append(q1_words)\n",
    "        texts.append(q2_words)\n",
    "    return texts\n",
    "\n",
    "texts = get_corpus(df_train)\n",
    "dictionary = corpora.Dictionary(texts)"
   ]
  },
  {
   "cell_type": "code",
   "execution_count": 12,
   "metadata": {
    "collapsed": true
   },
   "outputs": [],
   "source": [
    "dictionary.filter_extremes(no_below = 5)"
   ]
  },
  {
   "cell_type": "markdown",
   "metadata": {},
   "source": [
    "## Train LSI model based on TFIDF\n",
    "Set topic number as 10 as a starting point."
   ]
  },
  {
   "cell_type": "code",
   "execution_count": 13,
   "metadata": {
    "collapsed": false
   },
   "outputs": [],
   "source": [
    "corpus = [dictionary.doc2bow(text) for text in texts]\n",
    "tfidf = models.TfidfModel(corpus)\n",
    "corpus_tfidf = tfidf[corpus]\n"
   ]
  },
  {
   "cell_type": "code",
   "execution_count": 14,
   "metadata": {
    "collapsed": true
   },
   "outputs": [],
   "source": [
    "NUM_TOPICS = 100\n",
    "lsi = models.LsiModel(corpus_tfidf, id2word=dictionary, num_topics=NUM_TOPICS)"
   ]
  },
  {
   "cell_type": "code",
   "execution_count": 15,
   "metadata": {
    "collapsed": false
   },
   "outputs": [],
   "source": [
    "from sklearn.metrics.pairwise import cosine_similarity as cs\n",
    "\n",
    "def get_lsi_vector(bow, n_dim):\n",
    "    v = [0 for i in range(n_dim)]\n",
    "    for index, score in lsi[bow]:\n",
    "        v[index] = score\n",
    "    return v\n",
    "\n",
    "def get_similarity(row, n_dim=NUM_TOPICS):\n",
    "    q1_words = text_to_wordlist(row['question1'])\n",
    "    q2_words = text_to_wordlist(row['question2'])\n",
    "\n",
    "    q1_bow = dictionary.doc2bow(q1_words)\n",
    "    q2_bow = dictionary.doc2bow(q2_words)\n",
    "    \n",
    "    q1_lsi = get_lsi_vector(q1_bow, NUM_TOPICS)\n",
    "    q2_lsi = get_lsi_vector(q2_bow, NUM_TOPICS)\n",
    "\n",
    "    if len(q1_lsi) == 0 or len(q2_lsi) == 0:\n",
    "        return 0\n",
    "    return cs(np.asarray(q1_lsi).reshape(1, -1), np.asarray(q2_lsi).reshape(1, -1))[0][0]"
   ]
  },
  {
   "cell_type": "code",
   "execution_count": 16,
   "metadata": {
    "collapsed": false
   },
   "outputs": [
    {
     "name": "stdout",
     "output_type": "stream",
     "text": [
      "Log loss on the validation set for lsi cosine similarity is 2.227868\n"
     ]
    }
   ],
   "source": [
    "y_true = df_validate.is_duplicate.tolist()\n",
    "y_pred_lsi_cosine = df_validate.apply(get_similarity, axis=1, raw=True)\n",
    "logloss = calculate_logloss(y_true, y_pred_lsi_cosine)\n",
    "print (\"Log loss on the validation set for lsi cosine similarity is %f\" %logloss)"
   ]
  },
  {
   "cell_type": "markdown",
   "metadata": {},
   "source": [
    "## XGBoost"
   ]
  },
  {
   "cell_type": "code",
   "execution_count": 17,
   "metadata": {
    "collapsed": false
   },
   "outputs": [],
   "source": [
    "# First we create our training and testing data\n",
    "x_train = pd.DataFrame()\n",
    "x_train['word_match'] = train_word_match\n",
    "x_train['lsi_cos_similarity'] = df_train.apply(get_similarity, axis=1, raw=True)\n",
    "y_train = df_train['is_duplicate'].values\n",
    "\n",
    "x_valid = pd.DataFrame()\n",
    "x_valid['word_match'] = y_pred_word_count_match\n",
    "x_valid['lsi_cos_similarity'] = y_pred_lsi_cosine\n",
    "y_valid = df_validate['is_duplicate'].values\n"
   ]
  },
  {
   "cell_type": "code",
   "execution_count": 18,
   "metadata": {
    "collapsed": false
   },
   "outputs": [
    {
     "name": "stderr",
     "output_type": "stream",
     "text": [
      "/Users/xiaoxli/anaconda2/envs/kaggle-question-pair.venv/lib/python3.5/site-packages/sklearn/cross_validation.py:44: DeprecationWarning: This module was deprecated in version 0.18 in favor of the model_selection module into which all the refactored classes and functions are moved. Also note that the interface of the new CV iterators are different from that of this module. This module will be removed in 0.20.\n",
      "  \"This module will be removed in 0.20.\", DeprecationWarning)\n"
     ]
    },
    {
     "name": "stdout",
     "output_type": "stream",
     "text": [
      "[0]\ttrain-logloss:0.687881\tvalid-logloss:0.687904\n",
      "Multiple eval metrics have been passed: 'valid-logloss' will be used for early stopping.\n",
      "\n",
      "Will train until valid-logloss hasn't improved in 50 rounds.\n",
      "[10]\ttrain-logloss:0.644831\tvalid-logloss:0.645127\n",
      "[20]\ttrain-logloss:0.614532\tvalid-logloss:0.615044\n",
      "[30]\ttrain-logloss:0.59239\tvalid-logloss:0.593074\n",
      "[40]\ttrain-logloss:0.575698\tvalid-logloss:0.576533\n",
      "[50]\ttrain-logloss:0.563192\tvalid-logloss:0.56415\n",
      "[60]\ttrain-logloss:0.553578\tvalid-logloss:0.55463\n",
      "[70]\ttrain-logloss:0.546068\tvalid-logloss:0.547197\n",
      "[80]\ttrain-logloss:0.540179\tvalid-logloss:0.541367\n",
      "[90]\ttrain-logloss:0.535424\tvalid-logloss:0.536679\n",
      "[100]\ttrain-logloss:0.531646\tvalid-logloss:0.532961\n",
      "[110]\ttrain-logloss:0.528644\tvalid-logloss:0.530021\n",
      "[120]\ttrain-logloss:0.526241\tvalid-logloss:0.527679\n",
      "[130]\ttrain-logloss:0.524338\tvalid-logloss:0.525833\n",
      "[140]\ttrain-logloss:0.522837\tvalid-logloss:0.524371\n",
      "[150]\ttrain-logloss:0.521589\tvalid-logloss:0.523189\n",
      "[160]\ttrain-logloss:0.520593\tvalid-logloss:0.522236\n",
      "[170]\ttrain-logloss:0.519778\tvalid-logloss:0.521462\n",
      "[180]\ttrain-logloss:0.519106\tvalid-logloss:0.520826\n",
      "[190]\ttrain-logloss:0.518528\tvalid-logloss:0.520289\n",
      "[200]\ttrain-logloss:0.518064\tvalid-logloss:0.519855\n",
      "[210]\ttrain-logloss:0.517667\tvalid-logloss:0.519494\n",
      "[220]\ttrain-logloss:0.517353\tvalid-logloss:0.51921\n",
      "[230]\ttrain-logloss:0.517086\tvalid-logloss:0.518989\n",
      "[240]\ttrain-logloss:0.516876\tvalid-logloss:0.518809\n",
      "[250]\ttrain-logloss:0.51668\tvalid-logloss:0.518637\n",
      "[260]\ttrain-logloss:0.516478\tvalid-logloss:0.51846\n",
      "[270]\ttrain-logloss:0.516262\tvalid-logloss:0.51826\n",
      "[280]\ttrain-logloss:0.516051\tvalid-logloss:0.518068\n",
      "[290]\ttrain-logloss:0.515873\tvalid-logloss:0.517906\n",
      "[300]\ttrain-logloss:0.515647\tvalid-logloss:0.517696\n",
      "[310]\ttrain-logloss:0.515448\tvalid-logloss:0.517507\n",
      "[320]\ttrain-logloss:0.515271\tvalid-logloss:0.517336\n",
      "[330]\ttrain-logloss:0.515162\tvalid-logloss:0.517241\n",
      "[340]\ttrain-logloss:0.515035\tvalid-logloss:0.517127\n",
      "[350]\ttrain-logloss:0.514887\tvalid-logloss:0.516986\n",
      "[360]\ttrain-logloss:0.51481\tvalid-logloss:0.516919\n",
      "[370]\ttrain-logloss:0.514693\tvalid-logloss:0.516819\n",
      "[380]\ttrain-logloss:0.514565\tvalid-logloss:0.516708\n",
      "[390]\ttrain-logloss:0.514418\tvalid-logloss:0.51658\n",
      "[400]\ttrain-logloss:0.5143\tvalid-logloss:0.516472\n",
      "[410]\ttrain-logloss:0.514209\tvalid-logloss:0.516403\n",
      "[420]\ttrain-logloss:0.514142\tvalid-logloss:0.516344\n",
      "[430]\ttrain-logloss:0.514068\tvalid-logloss:0.516292\n",
      "[440]\ttrain-logloss:0.513978\tvalid-logloss:0.516221\n",
      "[450]\ttrain-logloss:0.513915\tvalid-logloss:0.51617\n",
      "[460]\ttrain-logloss:0.513852\tvalid-logloss:0.516118\n",
      "[470]\ttrain-logloss:0.513775\tvalid-logloss:0.516065\n",
      "[480]\ttrain-logloss:0.513703\tvalid-logloss:0.516008\n",
      "[490]\ttrain-logloss:0.513634\tvalid-logloss:0.515956\n",
      "[500]\ttrain-logloss:0.513556\tvalid-logloss:0.515897\n",
      "[510]\ttrain-logloss:0.513498\tvalid-logloss:0.515858\n",
      "[520]\ttrain-logloss:0.513445\tvalid-logloss:0.515827\n",
      "[530]\ttrain-logloss:0.513386\tvalid-logloss:0.515787\n",
      "[540]\ttrain-logloss:0.513318\tvalid-logloss:0.515741\n",
      "[550]\ttrain-logloss:0.513263\tvalid-logloss:0.515704\n",
      "[560]\ttrain-logloss:0.513212\tvalid-logloss:0.515666\n",
      "[570]\ttrain-logloss:0.513153\tvalid-logloss:0.515625\n",
      "[580]\ttrain-logloss:0.513104\tvalid-logloss:0.515591\n",
      "[590]\ttrain-logloss:0.513035\tvalid-logloss:0.515549\n"
     ]
    }
   ],
   "source": [
    "import xgboost as xgb\n",
    "\n",
    "# Set our parameters for xgboost\n",
    "params = {}\n",
    "params['objective'] = 'binary:logistic'\n",
    "params['eval_metric'] = 'logloss'\n",
    "params['eta'] = 0.02\n",
    "params['max_depth'] = 4\n",
    "\n",
    "d_train = xgb.DMatrix(x_train, label=y_train)\n",
    "d_valid = xgb.DMatrix(x_valid, label=y_valid)\n",
    "\n",
    "watchlist = [(d_train, 'train'), (d_valid, 'valid')]\n",
    "\n",
    "bst = xgb.train(params, d_train, 600, watchlist, early_stopping_rounds=50, verbose_eval=10)"
   ]
  },
  {
   "cell_type": "markdown",
   "metadata": {},
   "source": [
    "## Make the Submission\n",
    "\n",
    "Gives 0.47896 log loss on the test set"
   ]
  },
  {
   "cell_type": "code",
   "execution_count": 19,
   "metadata": {
    "collapsed": false
   },
   "outputs": [],
   "source": [
    "df_test = pd.read_csv('../input/test.csv')\n",
    "\n",
    "x_test = pd.DataFrame()\n",
    "x_test['word_match'] = df_test.apply(word_match_share, axis=1, raw=True)\n"
   ]
  },
  {
   "cell_type": "code",
   "execution_count": 20,
   "metadata": {
    "collapsed": true
   },
   "outputs": [],
   "source": [
    "x_test['lsi_cos_similarity'] = df_test.apply(get_similarity, axis=1, raw=True)\n",
    "d_test = xgb.DMatrix(x_test)\n",
    "p_test = bst.predict(d_test)\n",
    "\n",
    "sub = pd.DataFrame()\n",
    "sub['test_id'] = df_test['test_id']\n",
    "sub['is_duplicate'] = p_test\n",
    "sub.to_csv('simple_xgb.csv', index=False)"
   ]
  }
 ],
 "metadata": {
  "anaconda-cloud": {},
  "kernelspec": {
   "display_name": "Python [conda env:kaggle-question-pair.venv]",
   "language": "python",
   "name": "conda-env-kaggle-question-pair.venv-py"
  },
  "language_info": {
   "codemirror_mode": {
    "name": "ipython",
    "version": 3
   },
   "file_extension": ".py",
   "mimetype": "text/x-python",
   "name": "python",
   "nbconvert_exporter": "python",
   "pygments_lexer": "ipython3",
   "version": "3.5.3"
  }
 },
 "nbformat": 4,
 "nbformat_minor": 1
}
